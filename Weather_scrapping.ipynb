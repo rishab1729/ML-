{
  "nbformat": 4,
  "nbformat_minor": 0,
  "metadata": {
    "colab": {
      "provenance": []
    },
    "kernelspec": {
      "name": "python3",
      "display_name": "Python 3"
    },
    "language_info": {
      "name": "python"
    }
  },
  "cells": [
    {
      "cell_type": "code",
      "execution_count": 23,
      "metadata": {
        "colab": {
          "base_uri": "https://localhost:8080/"
        },
        "id": "katqbXc51igw",
        "outputId": "f57caccf-7860-4653-dc15-cc2fca029a16"
      },
      "outputs": [
        {
          "output_type": "stream",
          "name": "stdout",
          "text": [
            "Enter location:kharar\n",
            "\n",
            "\n",
            "Temperature: 15°C\n",
            "Precipitation: 1%\n",
            "Humidity: 68%\n"
          ]
        }
      ],
      "source": [
        "from requests_html import HTMLSession\n",
        "\n",
        "s = HTMLSession()\n",
        "query=input('Enter location:')\n",
        "url = f'https://www.google.co.in/search?q=weather+{query}'\n",
        "#url=f'https://www.google.com/search?ie=UTF-8&q=weather%20l{query}'\n",
        "\n",
        "r = s.get(url,headers={'User-Agent':'Mozilla/5.0 (Windows NT 10.0; Win64; x64) AppleWebKit/537.36 (KHTML, like Gecko) Chrome/106.0.0.0 Safari/537.36'})\n",
        "\n",
        "temp = r.html.find('span#wob_tm',first=True).text\n",
        "unit = r.html.find('div.vk_bk.wob-unit span.wob_t',first=True).text\n",
        "precipitation = r.html.find('div.wtsRwe',first=True).find('span#wob_pp',first=True).text\n",
        "humidity = r.html.find('div.wtsRwe',first=True).find('span#wob_hm',first=True).text\n",
        "\n",
        "\n",
        "print(f'\\n\\nTemperature: {temp}{unit}\\nPrecipitation: {precipitation}\\nHumidity: {humidity}')"
      ]
    },
    {
      "cell_type": "code",
      "source": [],
      "metadata": {
        "id": "A-UDeBKw9M-9"
      },
      "execution_count": null,
      "outputs": []
    }
  ]
}