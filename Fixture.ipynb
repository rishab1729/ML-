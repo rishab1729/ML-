{
  "nbformat": 4,
  "nbformat_minor": 0,
  "metadata": {
    "colab": {
      "provenance": []
    },
    "kernelspec": {
      "name": "python3",
      "display_name": "Python 3"
    },
    "language_info": {
      "name": "python"
    }
  },
  "cells": [
    {
      "cell_type": "markdown",
      "source": [
        "*   A fixture is a function that loads in memory every time a test is executed. \n",
        "\n",
        "  The most common use is to create reusable data instances that are using the test logic.\n",
        "\n",
        "*   When you use **@pytest.fixture()**, you are loading the content to memory, executing the test, and destroying the fixture. This happens for every test.\n",
        "\n",
        "*   A fixture can be created in pytest using the decorator @pytset.fixture().\n",
        "\n",
        "*   One of the most common mistakes is confusing the fixture with a standard Python function. Fixtures are inputted into the test with the fixture name. Notice in the code below that the input to the test is basic_structures, instead of the function basic_structures().\n",
        "\n",
        "  **The right pattern is: assert computation == hardcoded_value.** \n",
        "\n",
        "  This is one of the few situations in Python when hardcoding a value is allowed. A **common mistake is to follow the pattern assert computation == computation.**  You never want to do that.\n",
        "\n",
        "*   Fixtures allow modularizing your tests. They also ensure that the data you are using is not modified when executing multiple tests."
      ],
      "metadata": {
        "id": "hdYsmLXOxKtg"
      }
    },
    {
      "cell_type": "code",
      "execution_count": 1,
      "metadata": {
        "id": "5e7m8G5Jq19I"
      },
      "outputs": [],
      "source": [
        "import pytest"
      ]
    },
    {
      "cell_type": "code",
      "source": [
        "@pytest.fixture()\n",
        "\n",
        "def basic_strucutres():\n",
        "  data = {\n",
        "\t\"int\":5,\n",
        "\t\"yes\":True,\n",
        "\t\"no\":False,\n",
        "\t\"float\":0.5,\n",
        "\t\"pi\":3.1415292653589793238462643383279,\n",
        "\t\"string\":\"Rishab\",\n",
        "\t\"none\":None\n",
        "\t}\n",
        "  return data\n",
        "\n",
        "def test_comparing_numbers(basic_structures):\n",
        "\tassert basic_structures[\"pi\"]==pytest.approx(3.1415926,0.0000001)\n",
        "\tassert basic_structures[\"pi\"]!=pytest.approx(3.1415926,0.0000001)\n",
        "\tassert basic_structures[\"int\"]>3\n",
        "\tassert basic_structures[\"int\"]>=5\n",
        "\tassert basic_structures[\"int\"]<10\n",
        "\tassert basic_structures[\"int\"]<=5"
      ],
      "metadata": {
        "id": "ZJqFFjCKsvRb"
      },
      "execution_count": 5,
      "outputs": []
    },
    {
      "cell_type": "code",
      "source": [],
      "metadata": {
        "id": "O9f4Z3FhtCfS"
      },
      "execution_count": null,
      "outputs": []
    }
  ]
}